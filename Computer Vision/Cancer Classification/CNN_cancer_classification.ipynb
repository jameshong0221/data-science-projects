{
 "cells": [
  {
   "cell_type": "markdown",
   "metadata": {
    "pycharm": {
     "name": "#%% md\n"
    }
   },
   "source": [
    "# Introduction\n",
    "The objective of this study is to use convolutional neural network (CNN) to generate a cancer classifier. Model fitting and hyperparameter tuning will be performed to optimize results and best accuracy in cancer classification.   \n",
    "  \n",
    "The dataset is provided by Kaggle via 'Histopathologic Cancer Detection' competition. It contains small patches of digital pathology scans and the objective is to create an algorithm to identify metastatic cancer in the image patches.\n",
    "\n",
    "## Overview\n",
    "The study will follow the structure below:\n",
    "1. Review contents and structure of data. Clean and prepare data for analysis (drop missing values, number of features, length and types of data, etc), as well as perform EDA.\n",
    "2. Generate data, choose model, and fit\n",
    "4. Hyperparameter tuning to get best results\n",
    "5. Conclusion (Discussion of results, areas of improvement)"
   ]
  },
  {
   "cell_type": "code",
   "execution_count": null,
   "metadata": {
    "execution": {
     "iopub.execute_input": "2022-09-02T14:04:43.603242Z",
     "iopub.status.busy": "2022-09-02T14:04:43.602247Z",
     "iopub.status.idle": "2022-09-02T14:04:49.306498Z",
     "shell.execute_reply": "2022-09-02T14:04:49.305351Z",
     "shell.execute_reply.started": "2022-09-02T14:04:43.603195Z"
    },
    "pycharm": {
     "is_executing": true,
     "name": "#%%\n"
    }
   },
   "outputs": [],
   "source": [
    "import pandas as pd\n",
    "import numpy as np\n",
    "import seaborn as sns\n",
    "import tensorflow as tf\n",
    "import itertools\n",
    "import shutil\n",
    "from sklearn.metrics import classification_report\n",
    "from sklearn.metrics import confusion_matrix\n",
    "from keras.layers import Conv2D, Dense, Dropout, Flatten, MaxPool2D\n",
    "from keras.models import Sequential\n",
    "from keras.preprocessing.image import ImageDataGenerator\n",
    "from keras.models import load_model\n",
    "from tensorflow.keras.layers import BatchNormalization\n",
    "from tensorflow.keras.callbacks import ModelCheckpoint\n",
    "from tensorflow.keras.optimizers import RMSprop, Adam, SGD, Adadelta\n",
    "from tensorflow.keras.callbacks import ReduceLROnPlateau\n",
    "\n",
    "\n",
    "from numpy.random import seed\n",
    "from glob import glob\n",
    "from matplotlib import pyplot as plt\n",
    "from PIL import Image\n",
    "from sklearn.model_selection import train_test_split\n",
    "import random\n",
    "import os\n",
    "\n",
    "# Set seed for reproducibility of results\n",
    "seed(1234)\n"
   ]
  },
  {
   "cell_type": "code",
   "execution_count": 2,
   "metadata": {
    "execution": {
     "iopub.execute_input": "2022-09-02T14:04:49.309752Z",
     "iopub.status.busy": "2022-09-02T14:04:49.308758Z",
     "iopub.status.idle": "2022-09-02T14:04:49.771265Z",
     "shell.execute_reply": "2022-09-02T14:04:49.770322Z",
     "shell.execute_reply.started": "2022-09-02T14:04:49.309715Z"
    },
    "pycharm": {
     "name": "#%%\n"
    }
   },
   "outputs": [],
   "source": [
    "X_train = pd.read_csv('histopathologic-cancer-detection/train_labels.csv')"
   ]
  },
  {
   "cell_type": "code",
   "execution_count": 3,
   "metadata": {
    "execution": {
     "iopub.execute_input": "2022-09-02T14:04:56.943450Z",
     "iopub.status.busy": "2022-09-02T14:04:56.943078Z",
     "iopub.status.idle": "2022-09-02T14:04:56.961140Z",
     "shell.execute_reply": "2022-09-02T14:04:56.960219Z",
     "shell.execute_reply.started": "2022-09-02T14:04:56.943412Z"
    },
    "pycharm": {
     "name": "#%%\n"
    }
   },
   "outputs": [
    {
     "data": {
      "text/html": [
       "<div>\n",
       "<style scoped>\n",
       "    .dataframe tbody tr th:only-of-type {\n",
       "        vertical-align: middle;\n",
       "    }\n",
       "\n",
       "    .dataframe tbody tr th {\n",
       "        vertical-align: top;\n",
       "    }\n",
       "\n",
       "    .dataframe thead th {\n",
       "        text-align: right;\n",
       "    }\n",
       "</style>\n",
       "<table border=\"1\" class=\"dataframe\">\n",
       "  <thead>\n",
       "    <tr style=\"text-align: right;\">\n",
       "      <th></th>\n",
       "      <th>id</th>\n",
       "      <th>label</th>\n",
       "    </tr>\n",
       "  </thead>\n",
       "  <tbody>\n",
       "    <tr>\n",
       "      <th>0</th>\n",
       "      <td>f38a6374c348f90b587e046aac6079959adf3835</td>\n",
       "      <td>0</td>\n",
       "    </tr>\n",
       "    <tr>\n",
       "      <th>1</th>\n",
       "      <td>c18f2d887b7ae4f6742ee445113fa1aef383ed77</td>\n",
       "      <td>1</td>\n",
       "    </tr>\n",
       "    <tr>\n",
       "      <th>2</th>\n",
       "      <td>755db6279dae599ebb4d39a9123cce439965282d</td>\n",
       "      <td>0</td>\n",
       "    </tr>\n",
       "    <tr>\n",
       "      <th>3</th>\n",
       "      <td>bc3f0c64fb968ff4a8bd33af6971ecae77c75e08</td>\n",
       "      <td>0</td>\n",
       "    </tr>\n",
       "    <tr>\n",
       "      <th>4</th>\n",
       "      <td>068aba587a4950175d04c680d38943fd488d6a9d</td>\n",
       "      <td>0</td>\n",
       "    </tr>\n",
       "  </tbody>\n",
       "</table>\n",
       "</div>"
      ],
      "text/plain": [
       "                                         id  label\n",
       "0  f38a6374c348f90b587e046aac6079959adf3835      0\n",
       "1  c18f2d887b7ae4f6742ee445113fa1aef383ed77      1\n",
       "2  755db6279dae599ebb4d39a9123cce439965282d      0\n",
       "3  bc3f0c64fb968ff4a8bd33af6971ecae77c75e08      0\n",
       "4  068aba587a4950175d04c680d38943fd488d6a9d      0"
      ]
     },
     "execution_count": 3,
     "metadata": {},
     "output_type": "execute_result"
    }
   ],
   "source": [
    "X_train.head()"
   ]
  },
  {
   "cell_type": "markdown",
   "metadata": {
    "pycharm": {
     "name": "#%% md\n"
    }
   },
   "source": [
    "Note that each id does not have the .tif extension. It's possible that this may impede the classification process and may require manually adding the extension for each id."
   ]
  },
  {
   "cell_type": "code",
   "execution_count": 4,
   "metadata": {
    "execution": {
     "iopub.execute_input": "2022-09-02T03:36:22.398986Z",
     "iopub.status.busy": "2022-09-02T03:36:22.398618Z",
     "iopub.status.idle": "2022-09-02T03:36:22.423306Z",
     "shell.execute_reply": "2022-09-02T03:36:22.422399Z",
     "shell.execute_reply.started": "2022-09-02T03:36:22.398944Z"
    },
    "pycharm": {
     "name": "#%%\n"
    }
   },
   "outputs": [
    {
     "data": {
      "text/html": [
       "<div>\n",
       "<style scoped>\n",
       "    .dataframe tbody tr th:only-of-type {\n",
       "        vertical-align: middle;\n",
       "    }\n",
       "\n",
       "    .dataframe tbody tr th {\n",
       "        vertical-align: top;\n",
       "    }\n",
       "\n",
       "    .dataframe thead th {\n",
       "        text-align: right;\n",
       "    }\n",
       "</style>\n",
       "<table border=\"1\" class=\"dataframe\">\n",
       "  <thead>\n",
       "    <tr style=\"text-align: right;\">\n",
       "      <th></th>\n",
       "      <th>label</th>\n",
       "    </tr>\n",
       "  </thead>\n",
       "  <tbody>\n",
       "    <tr>\n",
       "      <th>count</th>\n",
       "      <td>220025.000000</td>\n",
       "    </tr>\n",
       "    <tr>\n",
       "      <th>mean</th>\n",
       "      <td>0.405031</td>\n",
       "    </tr>\n",
       "    <tr>\n",
       "      <th>std</th>\n",
       "      <td>0.490899</td>\n",
       "    </tr>\n",
       "    <tr>\n",
       "      <th>min</th>\n",
       "      <td>0.000000</td>\n",
       "    </tr>\n",
       "    <tr>\n",
       "      <th>25%</th>\n",
       "      <td>0.000000</td>\n",
       "    </tr>\n",
       "    <tr>\n",
       "      <th>50%</th>\n",
       "      <td>0.000000</td>\n",
       "    </tr>\n",
       "    <tr>\n",
       "      <th>75%</th>\n",
       "      <td>1.000000</td>\n",
       "    </tr>\n",
       "    <tr>\n",
       "      <th>max</th>\n",
       "      <td>1.000000</td>\n",
       "    </tr>\n",
       "  </tbody>\n",
       "</table>\n",
       "</div>"
      ],
      "text/plain": [
       "               label\n",
       "count  220025.000000\n",
       "mean        0.405031\n",
       "std         0.490899\n",
       "min         0.000000\n",
       "25%         0.000000\n",
       "50%         0.000000\n",
       "75%         1.000000\n",
       "max         1.000000"
      ]
     },
     "execution_count": 4,
     "metadata": {},
     "output_type": "execute_result"
    }
   ],
   "source": [
    "X_train.describe()"
   ]
  },
  {
   "cell_type": "code",
   "execution_count": 5,
   "metadata": {
    "execution": {
     "iopub.execute_input": "2022-09-02T03:36:22.427574Z",
     "iopub.status.busy": "2022-09-02T03:36:22.426886Z",
     "iopub.status.idle": "2022-09-02T03:36:22.452831Z",
     "shell.execute_reply": "2022-09-02T03:36:22.451886Z",
     "shell.execute_reply.started": "2022-09-02T03:36:22.427536Z"
    },
    "pycharm": {
     "name": "#%%\n"
    }
   },
   "outputs": [
    {
     "name": "stdout",
     "output_type": "stream",
     "text": [
      "<class 'pandas.core.frame.DataFrame'>\n",
      "RangeIndex: 220025 entries, 0 to 220024\n",
      "Data columns (total 2 columns):\n",
      " #   Column  Non-Null Count   Dtype \n",
      "---  ------  --------------   ----- \n",
      " 0   id      220025 non-null  object\n",
      " 1   label   220025 non-null  int64 \n",
      "dtypes: int64(1), object(1)\n",
      "memory usage: 3.4+ MB\n"
     ]
    }
   ],
   "source": [
    "X_train.info()"
   ]
  },
  {
   "cell_type": "code",
   "execution_count": 6,
   "metadata": {
    "execution": {
     "iopub.execute_input": "2022-09-02T03:36:22.454656Z",
     "iopub.status.busy": "2022-09-02T03:36:22.454339Z",
     "iopub.status.idle": "2022-09-02T03:36:22.464100Z",
     "shell.execute_reply": "2022-09-02T03:36:22.463157Z",
     "shell.execute_reply.started": "2022-09-02T03:36:22.454623Z"
    },
    "pycharm": {
     "name": "#%%\n"
    }
   },
   "outputs": [
    {
     "data": {
      "text/plain": [
       "0    130908\n",
       "1     89117\n",
       "Name: label, dtype: int64"
      ]
     },
     "execution_count": 6,
     "metadata": {},
     "output_type": "execute_result"
    }
   ],
   "source": [
    "X_train.label.value_counts()"
   ]
  },
  {
   "cell_type": "code",
   "execution_count": 7,
   "metadata": {
    "execution": {
     "iopub.execute_input": "2022-09-02T03:36:22.466635Z",
     "iopub.status.busy": "2022-09-02T03:36:22.465841Z",
     "iopub.status.idle": "2022-09-02T03:36:22.670087Z",
     "shell.execute_reply": "2022-09-02T03:36:22.669165Z",
     "shell.execute_reply.started": "2022-09-02T03:36:22.466595Z"
    },
    "pycharm": {
     "name": "#%%\n"
    }
   },
   "outputs": [
    {
     "data": {
      "text/plain": [
       "<AxesSubplot:xlabel='label', ylabel='count'>"
      ]
     },
     "execution_count": 7,
     "metadata": {},
     "output_type": "execute_result"
    },
    {
     "data": {
      "image/png": "[encoded data removed]",
      "text/plain": [
       "<Figure size 432x288 with 1 Axes>"
      ]
     },
     "metadata": {
      "needs_background": "light"
     },
     "output_type": "display_data"
    }
   ],
   "source": [
    "sns.countplot(x = 'label', data = X_train)"
   ]
  },
  {
   "cell_type": "markdown",
   "metadata": {
    "pycharm": {
     "name": "#%% md\n"
    }
   },
   "source": [
    "Data has 220025 entries with no missing values. There are two columns in the dataset, where one 'id' that represents the tissue/cell, and 'label' which represents whether the tissue is cancerous or not. Here, 0 is non-cancerous and 1 is cancerous.  \n",
    "  \n",
    "The distribution of each label seems to be skewed slightly to 0 (non-cancerous cell). This is helpful to keep in mind when viewing our final results. For indexing and manipulation purposes, we will save the labels as string values."
   ]
  },
  {
   "cell_type": "code",
   "execution_count": 8,
   "metadata": {
    "execution": {
     "iopub.execute_input": "2022-09-02T14:06:46.083279Z",
     "iopub.status.busy": "2022-09-02T14:06:46.082926Z",
     "iopub.status.idle": "2022-09-02T14:06:46.202344Z",
     "shell.execute_reply": "2022-09-02T14:06:46.201290Z",
     "shell.execute_reply.started": "2022-09-02T14:06:46.083248Z"
    },
    "pycharm": {
     "name": "#%%\n"
    }
   },
   "outputs": [
    {
     "name": "stdout",
     "output_type": "stream",
     "text": [
      "<class 'str'>\n"
     ]
    }
   ],
   "source": [
    "X_train['label'] = X_train['label'].astype('str')\n",
    "print(type(X_train['label'][0]))"
   ]
  },
  {
   "cell_type": "markdown",
   "metadata": {
    "pycharm": {
     "name": "#%% md\n"
    }
   },
   "source": [
    "To get a general idea of what the image looks like, let's take a brief inspection of one of the images."
   ]
  },
  {
   "cell_type": "code",
   "execution_count": 19,
   "metadata": {
    "execution": {
     "iopub.execute_input": "2022-09-02T03:36:22.796823Z",
     "iopub.status.busy": "2022-09-02T03:36:22.795976Z",
     "iopub.status.idle": "2022-09-02T03:36:22.983160Z",
     "shell.execute_reply": "2022-09-02T03:36:22.982109Z",
     "shell.execute_reply.started": "2022-09-02T03:36:22.796779Z"
    },
    "pycharm": {
     "name": "#%%\n"
    }
   },
   "outputs": [
    {
     "ename": "FileNotFoundError",
     "evalue": "[Errno 2] No such file or directory: '/histopathologic-cancer-detection/train/00016a638ed77529609ac61479dc7ee99a6f3711.tif'",
     "output_type": "error",
     "traceback": [
      "\u001b[1;31m---------------------------------------------------------------------------\u001b[0m",
      "\u001b[1;31mFileNotFoundError\u001b[0m                         Traceback (most recent call last)",
      "Input \u001b[1;32mIn [19]\u001b[0m, in \u001b[0;36m<cell line: 2>\u001b[1;34m()\u001b[0m\n\u001b[0;32m      1\u001b[0m \u001b[38;5;66;03m#View a sample image\u001b[39;00m\n\u001b[1;32m----> 2\u001b[0m \u001b[43mImage\u001b[49m\u001b[38;5;241;43m.\u001b[39;49m\u001b[43mopen\u001b[49m\u001b[43m(\u001b[49m\u001b[43m(\u001b[49m\u001b[38;5;124;43m'\u001b[39;49m\u001b[38;5;124;43m/histopathologic-cancer-detection/train/\u001b[39;49m\u001b[38;5;124;43m'\u001b[39;49m\u001b[43m)\u001b[49m\u001b[43m \u001b[49m\u001b[38;5;241;43m+\u001b[39;49m\u001b[43m \u001b[49m\u001b[43mos\u001b[49m\u001b[38;5;241;43m.\u001b[39;49m\u001b[43mlistdir\u001b[49m\u001b[43m(\u001b[49m\u001b[38;5;124;43m'\u001b[39;49m\u001b[38;5;124;43mhistopathologic-cancer-detection/train\u001b[39;49m\u001b[38;5;124;43m'\u001b[39;49m\u001b[43m)\u001b[49m\u001b[43m[\u001b[49m\u001b[38;5;241;43m10\u001b[39;49m\u001b[43m]\u001b[49m\u001b[43m)\u001b[49m\n",
      "File \u001b[1;32mc:\\users\\joonp\\anaconda3\\lib\\site-packages\\PIL\\Image.py:3092\u001b[0m, in \u001b[0;36mopen\u001b[1;34m(fp, mode, formats)\u001b[0m\n\u001b[0;32m   3089\u001b[0m     filename \u001b[38;5;241m=\u001b[39m fp\n\u001b[0;32m   3091\u001b[0m \u001b[38;5;28;01mif\u001b[39;00m filename:\n\u001b[1;32m-> 3092\u001b[0m     fp \u001b[38;5;241m=\u001b[39m \u001b[43mbuiltins\u001b[49m\u001b[38;5;241;43m.\u001b[39;49m\u001b[43mopen\u001b[49m\u001b[43m(\u001b[49m\u001b[43mfilename\u001b[49m\u001b[43m,\u001b[49m\u001b[43m \u001b[49m\u001b[38;5;124;43m\"\u001b[39;49m\u001b[38;5;124;43mrb\u001b[39;49m\u001b[38;5;124;43m\"\u001b[39;49m\u001b[43m)\u001b[49m\n\u001b[0;32m   3093\u001b[0m     exclusive_fp \u001b[38;5;241m=\u001b[39m \u001b[38;5;28;01mTrue\u001b[39;00m\n\u001b[0;32m   3095\u001b[0m \u001b[38;5;28;01mtry\u001b[39;00m:\n",
      "\u001b[1;31mFileNotFoundError\u001b[0m: [Errno 2] No such file or directory: '/histopathologic-cancer-detection/train/00016a638ed77529609ac61479dc7ee99a6f3711.tif'"
     ]
    }
   ],
   "source": [
    "#View a sample image\n",
    "Image.open(('/histopathologic-cancer-detection/train/') + os.listdir('histopathologic-cancer-detection/train')[10])"
   ]
  },
  {
   "cell_type": "markdown",
   "metadata": {
    "pycharm": {
     "name": "#%% md\n"
    }
   },
   "source": [
    "## Model fitting and classification  \n",
    "### Procedure  \n",
    "This part will follow the steps below:  \n",
    "1. Generate batches of tensor image data using ImageDataGenerator from the keras package.\n",
    "2. Define functions for early stopping and extraction of the best performing model.\n",
    "3. Initiate CNN (feature maps), add convolution, max pooling, dense and flatten layers. \n",
    "4. Compile using Adam optimizer and binary crossentropy loss function.\n",
    "5. Fit the dataset.  "
   ]
  },
  {
   "cell_type": "code",
   "execution_count": 12,
   "metadata": {
    "execution": {
     "iopub.execute_input": "2022-09-02T14:07:09.169326Z",
     "iopub.status.busy": "2022-09-02T14:07:09.168968Z",
     "iopub.status.idle": "2022-09-02T14:07:09.242817Z",
     "shell.execute_reply": "2022-09-02T14:07:09.241644Z",
     "shell.execute_reply.started": "2022-09-02T14:07:09.169292Z"
    },
    "pycharm": {
     "name": "#%%\n"
    }
   },
   "outputs": [],
   "source": [
    "# Split data to training and validation sets\n",
    "lab = X_train['label']\n",
    "x_train, x_val = train_test_split(X_train, test_size = 0.2, random_state = 124)\n",
    "\n",
    "print(len(x_train), len(x_val))\n",
    "print(x_train.shape, x_val.shape)\n",
    "print(x_train['label'].value_counts())"
   ]
  },
  {
   "cell_type": "markdown",
   "metadata": {
    "pycharm": {
     "name": "#%% md\n"
    }
   },
   "source": [
    "Split ratio is correct."
   ]
  },
  {
   "cell_type": "markdown",
   "metadata": {
    "pycharm": {
     "name": "#%% md\n"
    }
   },
   "source": [
    "#### 1. Generate batches of tensor image data using ImageDataGenerator from the keras package.\n",
    "We will be using Keras's ImageDataGenerator class for our modelling process. It helps automate the different transformation techniques involved in image augmentation, such as rotations, horizontal and vertical shifts, and flips. In other words, the ImageDataGenerator class takes care of the preprocessing step dynamically, applying the transformations and augmentation in real-time during the training phase.\n",
    "\n",
    "  \n",
    "For additional information on parameters and documentation, refer to source: https://www.tensorflow.org/api_docs/python/tf/keras/preprocessing/image/ImageDataGenerator  "
   ]
  },
  {
   "cell_type": "code",
   "execution_count": 13,
   "metadata": {
    "execution": {
     "iopub.execute_input": "2022-09-02T14:07:16.496549Z",
     "iopub.status.busy": "2022-09-02T14:07:16.496047Z",
     "iopub.status.idle": "2022-09-02T14:07:16.503553Z",
     "shell.execute_reply": "2022-09-02T14:07:16.502175Z",
     "shell.execute_reply.started": "2022-09-02T14:07:16.496502Z"
    },
    "pycharm": {
     "name": "#%%\n"
    }
   },
   "outputs": [],
   "source": [
    "# Initiate generator\n",
    "gen_dat = ImageDataGenerator(\n",
    "    rescale = float(1/255), \n",
    "    vertical_flip = True, \n",
    "    horizontal_flip = True, \n",
    "    rotation_range = 10, \n",
    "    zoom_range = 0.1, \n",
    "    height_shift_range = 0.1, \n",
    "    width_shift_range = 0.1)"
   ]
  },
  {
   "cell_type": "code",
   "execution_count": 14,
   "metadata": {
    "execution": {
     "iopub.execute_input": "2022-09-02T14:07:23.935798Z",
     "iopub.status.busy": "2022-09-02T14:07:23.935292Z",
     "iopub.status.idle": "2022-09-02T14:07:24.068050Z",
     "shell.execute_reply": "2022-09-02T14:07:24.067082Z",
     "shell.execute_reply.started": "2022-09-02T14:07:23.935761Z"
    },
    "pycharm": {
     "name": "#%%\n"
    }
   },
   "outputs": [],
   "source": [
    "# Add .tif extension to each image id\n",
    "x_train['id'] = x_train['id'].apply(lambda x: x + '.tif')\n",
    "x_val['id'] = x_val['id'].apply(lambda x: x + '.tif')"
   ]
  },
  {
   "cell_type": "code",
   "execution_count": 28,
   "metadata": {
    "execution": {
     "iopub.execute_input": "2022-09-02T03:36:23.189897Z",
     "iopub.status.busy": "2022-09-02T03:36:23.189353Z",
     "iopub.status.idle": "2022-09-02T03:36:23.201219Z",
     "shell.execute_reply": "2022-09-02T03:36:23.200110Z",
     "shell.execute_reply.started": "2022-09-02T03:36:23.189858Z"
    },
    "pycharm": {
     "name": "#%%\n"
    }
   },
   "outputs": [],
   "source": [
    "print('Training set \\n', x_train.head(), 'Validation set \\n', x_val.head())"
   ]
  },
  {
   "cell_type": "markdown",
   "metadata": {
    "pycharm": {
     "name": "#%% md\n"
    }
   },
   "source": [
    "We have successfully added the file extension."
   ]
  },
  {
   "cell_type": "code",
   "execution_count": 15,
   "metadata": {
    "execution": {
     "iopub.execute_input": "2022-09-02T14:07:28.262245Z",
     "iopub.status.busy": "2022-09-02T14:07:28.261234Z",
     "iopub.status.idle": "2022-09-02T14:08:55.138362Z",
     "shell.execute_reply": "2022-09-02T14:08:55.137114Z",
     "shell.execute_reply.started": "2022-09-02T14:07:28.262197Z"
    },
    "pycharm": {
     "name": "#%%\n"
    }
   },
   "outputs": [],
   "source": [
    "# Apply generators to each subsets.\n",
    "# .flow_from_dataframe is similar to .flow described in the source, except\n",
    "# that it takes in dataframe format.\n",
    "gen_train = gen_dat.flow_from_dataframe(\n",
    "    dataframe = x_train, \n",
    "    directory = \"../input/histopathologic-cancer-detection/train\", \n",
    "    x_col = 'id', y_col = 'label', \n",
    "    batch_size = 32, \n",
    "    seed = 124, \n",
    "    shuffle = False, \n",
    "    class_mode = 'binary', \n",
    "    target_size = (96, 96))\n",
    "gen_val = gen_dat.flow_from_dataframe(\n",
    "    dataframe = x_val, \n",
    "    directory = \"../input/histopathologic-cancer-detection/train\", \n",
    "    x_col = 'id', \n",
    "    y_col = 'label', \n",
    "    batch_size = 32, \n",
    "    seed = 124, \n",
    "    shuffle = False, \n",
    "    class_mode = 'binary', \n",
    "    target_size = (96, 96))"
   ]
  },
  {
   "cell_type": "markdown",
   "metadata": {
    "pycharm": {
     "name": "#%% md\n"
    }
   },
   "source": [
    "#### 2. Define functions for early stopping and extraction of the best performing model.  \n",
    "Image data generation is complete and ready for fitting, which can take quite a bit of time. To save time, we will define an early-stopping function that terminates the process at the epoch that gives us the best model."
   ]
  },
  {
   "cell_type": "code",
   "execution_count": 31,
   "metadata": {
    "execution": {
     "iopub.execute_input": "2022-09-02T04:09:16.635539Z",
     "iopub.status.busy": "2022-09-02T04:09:16.633405Z",
     "iopub.status.idle": "2022-09-02T04:09:16.648883Z",
     "shell.execute_reply": "2022-09-02T04:09:16.647611Z",
     "shell.execute_reply.started": "2022-09-02T04:09:16.635493Z"
    },
    "pycharm": {
     "name": "#%%\n"
    }
   },
   "outputs": [],
   "source": [
    "# Define early stopping and allow for extraction of best model\n",
    "class myCallback(tf.keras.callbacks.Callback):\n",
    "    def endepoch(self, epoch, logs = {}):\n",
    "        if(logs.get('val_accuracy') > 0.98):\n",
    "            self.model.stop_training = True\n",
    "c = myCallback()\n",
    "\n",
    "lr_reduction = ReduceLROnPlateau(monitor='val_accuracy',\n",
    "                                 patience=1, \n",
    "                                 verbose=1, \n",
    "                                 factor=0.5, \n",
    "                                 min_lr=1**(-10))"
   ]
  },
  {
   "cell_type": "markdown",
   "metadata": {
    "pycharm": {
     "name": "#%% md\n"
    }
   },
   "source": [
    "#### 3. Initiate CNN (feature maps), add convolution, max pooling, dense and flatten layers. \n",
    "First, we will create a base model with input dimension of 96 x 96 x 3 (RGB) and add flattening and dense layers.  The flatten layer is used for flattening the input to create a different output shape. The dense layer is used for creating a deeply connected layer in the neural network. It computes the dot product of all the input values along with the weights for obtaining the output.  \n",
    "Since we're dealing with images, we will add conv-2D layers to help reduce the size of images for faster processing, followed by convolutional layer with relu activation function to transform input vector values. This is repeated with pooling layers inbetween to reduce the number of parameters and calculations in the network, which improves efficiency and reduces over-fitting.  "
   ]
  },
  {
   "cell_type": "code",
   "execution_count": 32,
   "metadata": {
    "execution": {
     "iopub.execute_input": "2022-09-02T04:11:59.233817Z",
     "iopub.status.busy": "2022-09-02T04:11:59.233118Z",
     "iopub.status.idle": "2022-09-02T04:12:02.270114Z",
     "shell.execute_reply": "2022-09-02T04:12:02.269187Z",
     "shell.execute_reply.started": "2022-09-02T04:11:59.233779Z"
    },
    "pycharm": {
     "name": "#%%\n"
    }
   },
   "outputs": [],
   "source": [
    "model = tf.keras.models.Sequential([\n",
    "    tf.keras.layers.Flatten(input_shape = (96, 96, 3)),\n",
    "    tf.keras.layers.Dense(10),\n",
    "])"
   ]
  },
  {
   "cell_type": "code",
   "execution_count": 33,
   "metadata": {
    "execution": {
     "iopub.execute_input": "2022-09-02T04:12:15.105986Z",
     "iopub.status.busy": "2022-09-02T04:12:15.105621Z",
     "iopub.status.idle": "2022-09-02T04:12:15.111538Z",
     "shell.execute_reply": "2022-09-02T04:12:15.110452Z",
     "shell.execute_reply.started": "2022-09-02T04:12:15.105954Z"
    },
    "pycharm": {
     "name": "#%%\n"
    }
   },
   "outputs": [],
   "source": [
    "model.summary()"
   ]
  },
  {
   "cell_type": "markdown",
   "metadata": {
    "pycharm": {
     "name": "#%% md\n"
    }
   },
   "source": [
    "There are 276,490 trainable parameters. "
   ]
  },
  {
   "cell_type": "code",
   "execution_count": 34,
   "metadata": {
    "execution": {
     "iopub.execute_input": "2022-09-02T04:19:54.398964Z",
     "iopub.status.busy": "2022-09-02T04:19:54.398378Z",
     "iopub.status.idle": "2022-09-02T04:19:54.535618Z",
     "shell.execute_reply": "2022-09-02T04:19:54.534668Z",
     "shell.execute_reply.started": "2022-09-02T04:19:54.398927Z"
    },
    "pycharm": {
     "name": "#%%\n"
    }
   },
   "outputs": [],
   "source": [
    "model = tf.keras.models.Sequential()\n",
    "model.add(Conv2D(32,(3,3),strides=1,padding='Same',activation='relu',input_shape=(96, 96, 3)))\n",
    "model.add(MaxPool2D(2,2))\n",
    "model.add(BatchNormalization())\n",
    "model.add(Conv2D(64,(3,3), strides=1,padding= 'Same', activation='relu'))\n",
    "model.add(MaxPool2D(2,2))\n",
    "model.add(BatchNormalization())\n",
    "model.add(Conv2D(128,(3,3), strides=1,padding= 'Same', activation='relu'))\n",
    "model.add(MaxPool2D(2,2))\n",
    "model.add(BatchNormalization())\n",
    "model.add(Conv2D(256,(3,3), strides=1,padding= 'Same', activation='relu'))\n",
    "model.add(MaxPool2D(2,2))\n",
    "model.add(BatchNormalization())\n",
    "model.add(Flatten())\n",
    "model.add(Dropout(0.2))\n",
    "model.add(Dense(512, activation = \"relu\"))\n",
    "model.add(Dropout(0.2))\n",
    "model.add(Dense(1, activation = \"sigmoid\"))"
   ]
  },
  {
   "cell_type": "code",
   "execution_count": 35,
   "metadata": {
    "execution": {
     "iopub.execute_input": "2022-09-02T04:20:09.747058Z",
     "iopub.status.busy": "2022-09-02T04:20:09.746690Z",
     "iopub.status.idle": "2022-09-02T04:20:09.755085Z",
     "shell.execute_reply": "2022-09-02T04:20:09.754065Z",
     "shell.execute_reply.started": "2022-09-02T04:20:09.747025Z"
    },
    "pycharm": {
     "name": "#%%\n"
    }
   },
   "outputs": [],
   "source": [
    "model.summary()"
   ]
  },
  {
   "cell_type": "markdown",
   "metadata": {
    "pycharm": {
     "name": "#%% md\n"
    }
   },
   "source": [
    "#### 4. Compile using Adam optimizer and binary crossentropy loss function.\n",
    "The binary cross-entroy loss function is used to compute the loss between true and predicted labels for binary classification models. The Adam optimization algorithm is used as an alternative to the stochastic gradient descent. It uses adaptive gradient algorithm (AdaGrad) which is unlike the single learning rate of SGD. It also uses root mean square propagation (RMSProp) which helps with \"noisy\" problems."
   ]
  },
  {
   "cell_type": "code",
   "execution_count": 36,
   "metadata": {
    "execution": {
     "iopub.execute_input": "2022-09-02T04:44:52.984324Z",
     "iopub.status.busy": "2022-09-02T04:44:52.983877Z",
     "iopub.status.idle": "2022-09-02T04:44:53.004927Z",
     "shell.execute_reply": "2022-09-02T04:44:53.003701Z",
     "shell.execute_reply.started": "2022-09-02T04:44:52.984287Z"
    },
    "pycharm": {
     "name": "#%%\n"
    }
   },
   "outputs": [],
   "source": [
    "opt = Adam(learning_rate = 0.0025, beta_1 = 0.8, beta_2 = 0.8)\n",
    "model.compile(optimizer = opt, loss = \"binary_crossentropy\", metrics = [\"accuracy\"])"
   ]
  },
  {
   "cell_type": "markdown",
   "metadata": {
    "pycharm": {
     "name": "#%% md\n"
    }
   },
   "source": [
    "#### 5. Fit the dataset  \n",
    "We will fit using the training and validation datasets, up to 20 epochs. The model will be saved as a checkpoint for later use."
   ]
  },
  {
   "cell_type": "code",
   "execution_count": 37,
   "metadata": {
    "execution": {
     "iopub.execute_input": "2022-09-02T04:46:58.757590Z",
     "iopub.status.busy": "2022-09-02T04:46:58.757206Z",
     "iopub.status.idle": "2022-09-02T09:56:17.461878Z",
     "shell.execute_reply": "2022-09-02T09:56:17.460784Z",
     "shell.execute_reply.started": "2022-09-02T04:46:58.757558Z"
    },
    "pycharm": {
     "name": "#%%\n"
    }
   },
   "outputs": [],
   "source": [
    "hist = model.fit_generator(gen_train, \n",
    "                           validation_data = gen_val, \n",
    "                           epochs = 20, \n",
    "                           verbose = 1, \n",
    "                           callbacks = [c, lr_reduction, ModelCheckpoint('Generated Models.h5', monitor='val_accuracy', verbose=1,\n",
    "                             save_best_only=True, mode='max')])"
   ]
  },
  {
   "cell_type": "markdown",
   "metadata": {
    "pycharm": {
     "name": "#%% md\n"
    }
   },
   "source": [
    "## Evaluation & Assessment  \n",
    "We will observe the first few lines and get a general sense of the values. Then we will plot metrics of both the accuracy and loss to evaluate results. As the final step, we will compute confusion matrix and display the performance metric."
   ]
  },
  {
   "cell_type": "code",
   "execution_count": 38,
   "metadata": {
    "execution": {
     "iopub.execute_input": "2022-09-02T09:56:19.044974Z",
     "iopub.status.busy": "2022-09-02T09:56:19.044277Z",
     "iopub.status.idle": "2022-09-02T09:56:19.062300Z",
     "shell.execute_reply": "2022-09-02T09:56:19.061124Z",
     "shell.execute_reply.started": "2022-09-02T09:56:19.044931Z"
    },
    "pycharm": {
     "name": "#%%\n"
    }
   },
   "outputs": [],
   "source": [
    "hist = pd.DataFrame(hist.history)\n",
    "hist.head(5)"
   ]
  },
  {
   "cell_type": "code",
   "execution_count": 39,
   "metadata": {
    "execution": {
     "iopub.execute_input": "2022-09-02T09:56:19.065965Z",
     "iopub.status.busy": "2022-09-02T09:56:19.064726Z",
     "iopub.status.idle": "2022-09-02T09:56:19.478892Z",
     "shell.execute_reply": "2022-09-02T09:56:19.478016Z",
     "shell.execute_reply.started": "2022-09-02T09:56:19.065930Z"
    },
    "pycharm": {
     "name": "#%%\n"
    }
   },
   "outputs": [],
   "source": [
    "# Create plots of training and validation accuracy/loss on top of each other to compare.\n",
    "x_acc = hist['accuracy']\n",
    "x_loss = hist['loss']\n",
    "val_acc = hist['val_accuracy']\n",
    "val_loss = hist['val_loss']\n",
    "\n",
    "xax = range(1, len(x_acc) + 1, 1)\n",
    "\n",
    "plt.plot(xax, x_acc, 'r', label = 'Training')\n",
    "plt.plot(xax, val_acc, 'b', label = 'Validation')\n",
    "plt.title('Accuracy Comparison: Training vs Validation')\n",
    "plt.legend()\n",
    "plt.figure()\n",
    "\n",
    "plt.plot(xax, x_loss, 'r', label = 'Training')\n",
    "plt.plot(xax, val_loss, 'b', label = 'Validation')\n",
    "plt.title('Loss Comparison: Training vs Validation')\n",
    "plt.legend()\n",
    "\n",
    "plt.show()"
   ]
  },
  {
   "cell_type": "markdown",
   "metadata": {
    "pycharm": {
     "name": "#%% md\n"
    }
   },
   "source": [
    "**Training vs Validation accuracy and loss comparison**\n",
    "From the above two line plots of training vs validation performance metrics, we see that there are some discrepancies between the two throughout the epochs.  \n",
    "By the end of the training epochs, however, we see that the validation accuracy increases and overtakes that of training. When given more computation power, increasing the number of epochs seems a viable option for immediate improvement, but given that each epoch takes roughly 15 minutes with limited availability of GPU and TPU accelerators, I will save the process for later.  \n",
    "(Each run takes 4-5 hours to complete without the accelerators)"
   ]
  },
  {
   "cell_type": "code",
   "execution_count": null,
   "metadata": {
    "pycharm": {
     "name": "#%%\n"
    }
   },
   "outputs": [],
   "source": [
    "m = load_model('./Generated Models.h5')\n",
    "x_val2 = gen_dat.flow_from_dataframe(dataframe = x_val, directory = \"../input/histopathologic-cancer-detection/train\", x_col = 'id', y_col = 'label', batch_size = 32, seed = 124, shuffle = False, class_mode = 'binary', target_size = (96, 96))\n",
    "m.evaluate(x_val2, steps = len(x_val), verbose = 1)\n",
    "\n",
    "yhat_p = m.predict(x_val2, steps = len(x_val), verbose = 1)\n",
    "yhat = np.round(yhat_p)\n",
    "perf_metrics = classification_report(x_val2.classes, yhat)\n",
    "print(\"Displaying performance metrics... :\\n\", perf_metrics)"
   ]
  },
  {
   "cell_type": "code",
   "execution_count": 41,
   "metadata": {
    "execution": {
     "iopub.execute_input": "2022-09-02T10:02:30.851476Z",
     "iopub.status.busy": "2022-09-02T10:02:30.850726Z",
     "iopub.status.idle": "2022-09-02T10:02:31.106992Z",
     "shell.execute_reply": "2022-09-02T10:02:31.106034Z",
     "shell.execute_reply.started": "2022-09-02T10:02:30.851434Z"
    },
    "pycharm": {
     "name": "#%%\n"
    }
   },
   "outputs": [],
   "source": [
    "#Confusion Matrix\n",
    "fig, ax = plt.subplots(figsize = (10, 10))\n",
    "conf_mat = confusion_matrix(x_val2.classes, yhat)\n",
    "sns.heatmap(conf_mat, annot = True, linewidths = 0.01, cmap = \"Blues\", linecolor = 'black', ax = ax)\n",
    "plt.xlabel(\"Predicted\")\n",
    "plt.ylabel(\"Actual\")\n",
    "plt.title(\"Validation Set Confusion Matrix\")\n",
    "plt.show()"
   ]
  },
  {
   "cell_type": "code",
   "execution_count": 42,
   "metadata": {
    "execution": {
     "iopub.execute_input": "2022-09-02T10:02:31.111687Z",
     "iopub.status.busy": "2022-09-02T10:02:31.111407Z",
     "iopub.status.idle": "2022-09-02T10:02:31.196118Z",
     "shell.execute_reply": "2022-09-02T10:02:31.195183Z",
     "shell.execute_reply.started": "2022-09-02T10:02:31.111660Z"
    },
    "pycharm": {
     "name": "#%%\n"
    }
   },
   "outputs": [],
   "source": [
    "x_test = pd.read_csv('../input/histopathologic-cancer-detection/sample_submission.csv')\n",
    "x_test['files'] = x_test.id + '.tif'"
   ]
  },
  {
   "cell_type": "code",
   "execution_count": null,
   "metadata": {
    "pycharm": {
     "name": "#%%\n"
    }
   },
   "outputs": [],
   "source": [
    "# Image data generator for test set\n",
    "\n",
    "gen_test = gen_dat.flow_from_dataframe(dataframe = x_test,\n",
    "                                      directory = '../input/histopathologic-cancer-detection/test/',\n",
    "                                      x_col = 'files', \n",
    "                                      batch_size = 32, \n",
    "                                      seed = 124, \n",
    "                                      shuffle = False, \n",
    "                                      class_mode = 'binary',\n",
    "                                      target_size = (96, 96))"
   ]
  },
  {
   "cell_type": "code",
   "execution_count": null,
   "metadata": {
    "execution": {
     "iopub.status.busy": "2022-09-02T10:02:31.367331Z",
     "iopub.status.idle": "2022-09-02T10:02:31.367830Z",
     "shell.execute_reply": "2022-09-02T10:02:31.367601Z",
     "shell.execute_reply.started": "2022-09-02T10:02:31.367576Z"
    },
    "pycharm": {
     "name": "#%%\n"
    }
   },
   "outputs": [],
   "source": [
    "preds = model.predict(gen_test, verbose = 1)"
   ]
  },
  {
   "cell_type": "code",
   "execution_count": null,
   "metadata": {
    "execution": {
     "iopub.status.busy": "2022-09-02T10:02:33.012824Z",
     "iopub.status.idle": "2022-09-02T10:02:33.013350Z",
     "shell.execute_reply": "2022-09-02T10:02:33.013098Z",
     "shell.execute_reply.started": "2022-09-02T10:02:33.013074Z"
    },
    "pycharm": {
     "name": "#%%\n"
    }
   },
   "outputs": [],
   "source": [
    "submission = pd.read_csv('../input/histopathologic-cancer-detection/sample_submission.csv', index_col = 'id')\n",
    "submission.label = preds\n",
    "submission.to_csv('./submission.csv')"
   ]
  },
  {
   "cell_type": "code",
   "execution_count": null,
   "metadata": {
    "pycharm": {
     "name": "#%%\n"
    }
   },
   "outputs": [],
   "source": []
  }
 ],
 "metadata": {
  "kernelspec": {
   "display_name": "Python 3 (ipykernel)",
   "language": "python",
   "name": "python3"
  },
  "language_info": {
   "codemirror_mode": {
    "name": "ipython",
    "version": 3
   },
   "file_extension": ".py",
   "mimetype": "text/x-python",
   "name": "python",
   "nbconvert_exporter": "python",
   "pygments_lexer": "ipython3",
   "version": "3.8.5"
  }
 },
 "nbformat": 4,
 "nbformat_minor": 4
}
